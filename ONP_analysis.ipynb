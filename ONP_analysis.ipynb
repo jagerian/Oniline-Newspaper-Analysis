{
 "cells": [
  {
   "cell_type": "markdown",
   "metadata": {},
   "source": [
    "# ONP 데이터 분석 \n",
    "## 0. 분석 목적\n",
    "## 1. 라이브러리 불러오기\n",
    "## 2. 데이터 불러오기\n",
    "## 3. EDA\n",
    "## 4. 전처리\n",
    "## 5. 모델링\n",
    "## 6. 결론"
   ]
  },
  {
   "cell_type": "markdown",
   "metadata": {},
   "source": [
    " "
   ]
  },
  {
   "cell_type": "markdown",
   "metadata": {},
   "source": [
    " "
   ]
  },
  {
   "cell_type": "markdown",
   "metadata": {},
   "source": [
    " "
   ]
  },
  {
   "cell_type": "markdown",
   "metadata": {},
   "source": [
    "## 0. 분석목적\n",
    " 이번 분석은 크게 2가지 방향으로 진행될 예정이다.\n",
    " * 기사의 특징을 바탕으로 share 수 예측하기\n",
    " * 기사의 특징을 바탕으로 유명한 기사인지 아닌지 분류하기"
   ]
  },
  {
   "cell_type": "markdown",
   "metadata": {},
   "source": [
    "## 1. 라이브러리 불러오기\n",
    "기본 라이브러리를 불러오고, 회귀와 분류 모델에서 사용할 알고리즘 또한 불러온다."
   ]
  },
  {
   "cell_type": "code",
   "execution_count": 1,
   "metadata": {},
   "outputs": [],
   "source": [
    "#기본 라이브러리\n",
    "import pandas as pd\n",
    "import numpy as np\n",
    "import matplotlib.pyplot as plt\n",
    "import seaborn as sns\n",
    "import warnings\n",
    "warnings.filterwarnings('ignore')\n",
    "sns.set(style=\"ticks\")"
   ]
  },
  {
   "cell_type": "code",
   "execution_count": 2,
   "metadata": {},
   "outputs": [
    {
     "name": "stderr",
     "output_type": "stream",
     "text": [
      "C:\\Users\\student\\Anaconda3\\envs\\tensorflow\\lib\\site-packages\\sklearn\\ensemble\\weight_boosting.py:29: DeprecationWarning: numpy.core.umath_tests is an internal NumPy module and should not be imported. It will be removed in a future NumPy release.\n",
      "  from numpy.core.umath_tests import inner1d\n"
     ]
    }
   ],
   "source": [
    "#머신러닝 알고리즘 및 유틸리티\n",
    "from sklearn.preprocessing import LabelEncoder\n",
    "from sklearn.preprocessing import MinMaxScaler\n",
    "from sklearn.model_selection import GridSearchCV\n",
    "from sklearn.model_selection import StratifiedKFold\n",
    "from scipy import stats\n",
    "from scipy.stats import norm,skew\n",
    "from sklearn.model_selection import cross_val_score\n",
    "from sklearn.model_selection import train_test_split\n",
    "from sklearn.feature_selection import RFECV\n",
    "from sklearn.metrics import r2_score\n",
    "from sklearn.metrics import classification_report\n",
    "from sklearn.ensemble import RandomForestClassifier\n",
    "from xgboost import XGBClassifier\n",
    "from sklearn.linear_model import LinearRegression\n",
    "from xgboost import XGBRegressor"
   ]
  },
  {
   "cell_type": "code",
   "execution_count": 3,
   "metadata": {},
   "outputs": [],
   "source": [
    "#KERAS!!!!!\n",
    "#from keras.layers import Dense \n",
    "#from keras.models import Sequential"
   ]
  },
  {
   "cell_type": "code",
   "execution_count": 4,
   "metadata": {},
   "outputs": [],
   "source": [
    "#GPU 사용체크\n",
    "#from tensorflow.python.client import device_lib\n",
    "#print(device_lib.list_local_devices())"
   ]
  },
  {
   "cell_type": "markdown",
   "metadata": {},
   "source": [
    "## 2. 데이터 불러오기\n",
    "* 기본 정보 살펴보기\n",
    "    1. 데이터의 차원\n",
    "    2. 데이터 구성 확인\n",
    "    3. 각 속성별 요약 통계 확인\n",
    "    4. 타켓 변수 특징 확인"
   ]
  },
  {
   "cell_type": "code",
   "execution_count": 5,
   "metadata": {},
   "outputs": [],
   "source": [
    "#데이터를 불러온다.\n",
    "df=pd.read_csv(\"./datasets/OnlineNewsPopularity.csv\")"
   ]
  },
  {
   "cell_type": "code",
   "execution_count": 6,
   "metadata": {},
   "outputs": [
    {
     "name": "stdout",
     "output_type": "stream",
     "text": [
      "(39644, 61)\n"
     ]
    }
   ],
   "source": [
    "#차원을 확인한다.\n",
    "print(df.shape)"
   ]
  },
  {
   "cell_type": "code",
   "execution_count": 7,
   "metadata": {},
   "outputs": [
    {
     "data": {
      "text/html": [
       "<div>\n",
       "<style scoped>\n",
       "    .dataframe tbody tr th:only-of-type {\n",
       "        vertical-align: middle;\n",
       "    }\n",
       "\n",
       "    .dataframe tbody tr th {\n",
       "        vertical-align: top;\n",
       "    }\n",
       "\n",
       "    .dataframe thead th {\n",
       "        text-align: right;\n",
       "    }\n",
       "</style>\n",
       "<table border=\"1\" class=\"dataframe\">\n",
       "  <thead>\n",
       "    <tr style=\"text-align: right;\">\n",
       "      <th></th>\n",
       "      <th>url</th>\n",
       "      <th>timedelta</th>\n",
       "      <th>n_tokens_title</th>\n",
       "      <th>n_tokens_content</th>\n",
       "      <th>n_unique_tokens</th>\n",
       "      <th>n_non_stop_words</th>\n",
       "      <th>n_non_stop_unique_tokens</th>\n",
       "      <th>num_hrefs</th>\n",
       "      <th>num_self_hrefs</th>\n",
       "      <th>num_imgs</th>\n",
       "      <th>...</th>\n",
       "      <th>min_positive_polarity</th>\n",
       "      <th>max_positive_polarity</th>\n",
       "      <th>avg_negative_polarity</th>\n",
       "      <th>min_negative_polarity</th>\n",
       "      <th>max_negative_polarity</th>\n",
       "      <th>title_subjectivity</th>\n",
       "      <th>title_sentiment_polarity</th>\n",
       "      <th>abs_title_subjectivity</th>\n",
       "      <th>abs_title_sentiment_polarity</th>\n",
       "      <th>shares</th>\n",
       "    </tr>\n",
       "  </thead>\n",
       "  <tbody>\n",
       "    <tr>\n",
       "      <th>0</th>\n",
       "      <td>http://mashable.com/2013/01/07/amazon-instant-...</td>\n",
       "      <td>731.0</td>\n",
       "      <td>12.0</td>\n",
       "      <td>219.0</td>\n",
       "      <td>0.663594</td>\n",
       "      <td>1.0</td>\n",
       "      <td>0.815385</td>\n",
       "      <td>4.0</td>\n",
       "      <td>2.0</td>\n",
       "      <td>1.0</td>\n",
       "      <td>...</td>\n",
       "      <td>0.100000</td>\n",
       "      <td>0.7</td>\n",
       "      <td>-0.350000</td>\n",
       "      <td>-0.600</td>\n",
       "      <td>-0.200000</td>\n",
       "      <td>0.500000</td>\n",
       "      <td>-0.187500</td>\n",
       "      <td>0.000000</td>\n",
       "      <td>0.187500</td>\n",
       "      <td>593</td>\n",
       "    </tr>\n",
       "    <tr>\n",
       "      <th>1</th>\n",
       "      <td>http://mashable.com/2013/01/07/ap-samsung-spon...</td>\n",
       "      <td>731.0</td>\n",
       "      <td>9.0</td>\n",
       "      <td>255.0</td>\n",
       "      <td>0.604743</td>\n",
       "      <td>1.0</td>\n",
       "      <td>0.791946</td>\n",
       "      <td>3.0</td>\n",
       "      <td>1.0</td>\n",
       "      <td>1.0</td>\n",
       "      <td>...</td>\n",
       "      <td>0.033333</td>\n",
       "      <td>0.7</td>\n",
       "      <td>-0.118750</td>\n",
       "      <td>-0.125</td>\n",
       "      <td>-0.100000</td>\n",
       "      <td>0.000000</td>\n",
       "      <td>0.000000</td>\n",
       "      <td>0.500000</td>\n",
       "      <td>0.000000</td>\n",
       "      <td>711</td>\n",
       "    </tr>\n",
       "    <tr>\n",
       "      <th>2</th>\n",
       "      <td>http://mashable.com/2013/01/07/apple-40-billio...</td>\n",
       "      <td>731.0</td>\n",
       "      <td>9.0</td>\n",
       "      <td>211.0</td>\n",
       "      <td>0.575130</td>\n",
       "      <td>1.0</td>\n",
       "      <td>0.663866</td>\n",
       "      <td>3.0</td>\n",
       "      <td>1.0</td>\n",
       "      <td>1.0</td>\n",
       "      <td>...</td>\n",
       "      <td>0.100000</td>\n",
       "      <td>1.0</td>\n",
       "      <td>-0.466667</td>\n",
       "      <td>-0.800</td>\n",
       "      <td>-0.133333</td>\n",
       "      <td>0.000000</td>\n",
       "      <td>0.000000</td>\n",
       "      <td>0.500000</td>\n",
       "      <td>0.000000</td>\n",
       "      <td>1500</td>\n",
       "    </tr>\n",
       "    <tr>\n",
       "      <th>3</th>\n",
       "      <td>http://mashable.com/2013/01/07/astronaut-notre...</td>\n",
       "      <td>731.0</td>\n",
       "      <td>9.0</td>\n",
       "      <td>531.0</td>\n",
       "      <td>0.503788</td>\n",
       "      <td>1.0</td>\n",
       "      <td>0.665635</td>\n",
       "      <td>9.0</td>\n",
       "      <td>0.0</td>\n",
       "      <td>1.0</td>\n",
       "      <td>...</td>\n",
       "      <td>0.136364</td>\n",
       "      <td>0.8</td>\n",
       "      <td>-0.369697</td>\n",
       "      <td>-0.600</td>\n",
       "      <td>-0.166667</td>\n",
       "      <td>0.000000</td>\n",
       "      <td>0.000000</td>\n",
       "      <td>0.500000</td>\n",
       "      <td>0.000000</td>\n",
       "      <td>1200</td>\n",
       "    </tr>\n",
       "    <tr>\n",
       "      <th>4</th>\n",
       "      <td>http://mashable.com/2013/01/07/att-u-verse-apps/</td>\n",
       "      <td>731.0</td>\n",
       "      <td>13.0</td>\n",
       "      <td>1072.0</td>\n",
       "      <td>0.415646</td>\n",
       "      <td>1.0</td>\n",
       "      <td>0.540890</td>\n",
       "      <td>19.0</td>\n",
       "      <td>19.0</td>\n",
       "      <td>20.0</td>\n",
       "      <td>...</td>\n",
       "      <td>0.033333</td>\n",
       "      <td>1.0</td>\n",
       "      <td>-0.220192</td>\n",
       "      <td>-0.500</td>\n",
       "      <td>-0.050000</td>\n",
       "      <td>0.454545</td>\n",
       "      <td>0.136364</td>\n",
       "      <td>0.045455</td>\n",
       "      <td>0.136364</td>\n",
       "      <td>505</td>\n",
       "    </tr>\n",
       "  </tbody>\n",
       "</table>\n",
       "<p>5 rows × 61 columns</p>\n",
       "</div>"
      ],
      "text/plain": [
       "                                                 url   timedelta  \\\n",
       "0  http://mashable.com/2013/01/07/amazon-instant-...       731.0   \n",
       "1  http://mashable.com/2013/01/07/ap-samsung-spon...       731.0   \n",
       "2  http://mashable.com/2013/01/07/apple-40-billio...       731.0   \n",
       "3  http://mashable.com/2013/01/07/astronaut-notre...       731.0   \n",
       "4   http://mashable.com/2013/01/07/att-u-verse-apps/       731.0   \n",
       "\n",
       "    n_tokens_title   n_tokens_content   n_unique_tokens   n_non_stop_words  \\\n",
       "0             12.0              219.0          0.663594                1.0   \n",
       "1              9.0              255.0          0.604743                1.0   \n",
       "2              9.0              211.0          0.575130                1.0   \n",
       "3              9.0              531.0          0.503788                1.0   \n",
       "4             13.0             1072.0          0.415646                1.0   \n",
       "\n",
       "    n_non_stop_unique_tokens   num_hrefs   num_self_hrefs   num_imgs   ...     \\\n",
       "0                   0.815385         4.0              2.0        1.0   ...      \n",
       "1                   0.791946         3.0              1.0        1.0   ...      \n",
       "2                   0.663866         3.0              1.0        1.0   ...      \n",
       "3                   0.665635         9.0              0.0        1.0   ...      \n",
       "4                   0.540890        19.0             19.0       20.0   ...      \n",
       "\n",
       "    min_positive_polarity   max_positive_polarity   avg_negative_polarity  \\\n",
       "0                0.100000                     0.7               -0.350000   \n",
       "1                0.033333                     0.7               -0.118750   \n",
       "2                0.100000                     1.0               -0.466667   \n",
       "3                0.136364                     0.8               -0.369697   \n",
       "4                0.033333                     1.0               -0.220192   \n",
       "\n",
       "    min_negative_polarity   max_negative_polarity   title_subjectivity  \\\n",
       "0                  -0.600               -0.200000             0.500000   \n",
       "1                  -0.125               -0.100000             0.000000   \n",
       "2                  -0.800               -0.133333             0.000000   \n",
       "3                  -0.600               -0.166667             0.000000   \n",
       "4                  -0.500               -0.050000             0.454545   \n",
       "\n",
       "    title_sentiment_polarity   abs_title_subjectivity  \\\n",
       "0                  -0.187500                 0.000000   \n",
       "1                   0.000000                 0.500000   \n",
       "2                   0.000000                 0.500000   \n",
       "3                   0.000000                 0.500000   \n",
       "4                   0.136364                 0.045455   \n",
       "\n",
       "    abs_title_sentiment_polarity   shares  \n",
       "0                       0.187500      593  \n",
       "1                       0.000000      711  \n",
       "2                       0.000000     1500  \n",
       "3                       0.000000     1200  \n",
       "4                       0.136364      505  \n",
       "\n",
       "[5 rows x 61 columns]"
      ]
     },
     "execution_count": 7,
     "metadata": {},
     "output_type": "execute_result"
    }
   ],
   "source": [
    "df.head()"
   ]
  },
  {
   "cell_type": "code",
   "execution_count": 8,
   "metadata": {},
   "outputs": [
    {
     "name": "stdout",
     "output_type": "stream",
     "text": [
      "<class 'pandas.core.frame.DataFrame'>\n",
      "RangeIndex: 39644 entries, 0 to 39643\n",
      "Data columns (total 61 columns):\n",
      "url                               39644 non-null object\n",
      " timedelta                        39644 non-null float64\n",
      " n_tokens_title                   39644 non-null float64\n",
      " n_tokens_content                 39644 non-null float64\n",
      " n_unique_tokens                  39644 non-null float64\n",
      " n_non_stop_words                 39644 non-null float64\n",
      " n_non_stop_unique_tokens         39644 non-null float64\n",
      " num_hrefs                        39644 non-null float64\n",
      " num_self_hrefs                   39644 non-null float64\n",
      " num_imgs                         39644 non-null float64\n",
      " num_videos                       39644 non-null float64\n",
      " average_token_length             39644 non-null float64\n",
      " num_keywords                     39644 non-null float64\n",
      " data_channel_is_lifestyle        39644 non-null float64\n",
      " data_channel_is_entertainment    39644 non-null float64\n",
      " data_channel_is_bus              39644 non-null float64\n",
      " data_channel_is_socmed           39644 non-null float64\n",
      " data_channel_is_tech             39644 non-null float64\n",
      " data_channel_is_world            39644 non-null float64\n",
      " kw_min_min                       39644 non-null float64\n",
      " kw_max_min                       39644 non-null float64\n",
      " kw_avg_min                       39644 non-null float64\n",
      " kw_min_max                       39644 non-null float64\n",
      " kw_max_max                       39644 non-null float64\n",
      " kw_avg_max                       39644 non-null float64\n",
      " kw_min_avg                       39644 non-null float64\n",
      " kw_max_avg                       39644 non-null float64\n",
      " kw_avg_avg                       39644 non-null float64\n",
      " self_reference_min_shares        39644 non-null float64\n",
      " self_reference_max_shares        39644 non-null float64\n",
      " self_reference_avg_sharess       39644 non-null float64\n",
      " weekday_is_monday                39644 non-null float64\n",
      " weekday_is_tuesday               39644 non-null float64\n",
      " weekday_is_wednesday             39644 non-null float64\n",
      " weekday_is_thursday              39644 non-null float64\n",
      " weekday_is_friday                39644 non-null float64\n",
      " weekday_is_saturday              39644 non-null float64\n",
      " weekday_is_sunday                39644 non-null float64\n",
      " is_weekend                       39644 non-null float64\n",
      " LDA_00                           39644 non-null float64\n",
      " LDA_01                           39644 non-null float64\n",
      " LDA_02                           39644 non-null float64\n",
      " LDA_03                           39644 non-null float64\n",
      " LDA_04                           39644 non-null float64\n",
      " global_subjectivity              39644 non-null float64\n",
      " global_sentiment_polarity        39644 non-null float64\n",
      " global_rate_positive_words       39644 non-null float64\n",
      " global_rate_negative_words       39644 non-null float64\n",
      " rate_positive_words              39644 non-null float64\n",
      " rate_negative_words              39644 non-null float64\n",
      " avg_positive_polarity            39644 non-null float64\n",
      " min_positive_polarity            39644 non-null float64\n",
      " max_positive_polarity            39644 non-null float64\n",
      " avg_negative_polarity            39644 non-null float64\n",
      " min_negative_polarity            39644 non-null float64\n",
      " max_negative_polarity            39644 non-null float64\n",
      " title_subjectivity               39644 non-null float64\n",
      " title_sentiment_polarity         39644 non-null float64\n",
      " abs_title_subjectivity           39644 non-null float64\n",
      " abs_title_sentiment_polarity     39644 non-null float64\n",
      " shares                           39644 non-null int64\n",
      "dtypes: float64(59), int64(1), object(1)\n",
      "memory usage: 18.5+ MB\n",
      "None\n"
     ]
    }
   ],
   "source": [
    "#데이터 구성 확인\n",
    "print(df.info())"
   ]
  },
  {
   "cell_type": "markdown",
   "metadata": {},
   "source": [
    "메타 데이터인 기사의 URL과 타임델타임은 분석에 사용하지 않는다."
   ]
  },
  {
   "cell_type": "code",
   "execution_count": 9,
   "metadata": {},
   "outputs": [
    {
     "data": {
      "text/html": [
       "<div>\n",
       "<style scoped>\n",
       "    .dataframe tbody tr th:only-of-type {\n",
       "        vertical-align: middle;\n",
       "    }\n",
       "\n",
       "    .dataframe tbody tr th {\n",
       "        vertical-align: top;\n",
       "    }\n",
       "\n",
       "    .dataframe thead th {\n",
       "        text-align: right;\n",
       "    }\n",
       "</style>\n",
       "<table border=\"1\" class=\"dataframe\">\n",
       "  <thead>\n",
       "    <tr style=\"text-align: right;\">\n",
       "      <th></th>\n",
       "      <th>url</th>\n",
       "      <th>timedelta</th>\n",
       "      <th>n_tokens_title</th>\n",
       "      <th>n_tokens_content</th>\n",
       "      <th>n_unique_tokens</th>\n",
       "      <th>n_non_stop_words</th>\n",
       "      <th>n_non_stop_unique_tokens</th>\n",
       "      <th>num_hrefs</th>\n",
       "      <th>num_self_hrefs</th>\n",
       "      <th>num_imgs</th>\n",
       "      <th>num_videos</th>\n",
       "      <th>average_token_length</th>\n",
       "      <th>num_keywords</th>\n",
       "      <th>data_channel_is_lifestyle</th>\n",
       "      <th>data_channel_is_entertainment</th>\n",
       "      <th>data_channel_is_bus</th>\n",
       "    </tr>\n",
       "  </thead>\n",
       "  <tbody>\n",
       "    <tr>\n",
       "      <th>count</th>\n",
       "      <td>39644</td>\n",
       "      <td>39644.000000</td>\n",
       "      <td>39644.000000</td>\n",
       "      <td>39644.000000</td>\n",
       "      <td>39644.000000</td>\n",
       "      <td>39644.000000</td>\n",
       "      <td>39644.000000</td>\n",
       "      <td>39644.000000</td>\n",
       "      <td>39644.000000</td>\n",
       "      <td>39644.000000</td>\n",
       "      <td>39644.000000</td>\n",
       "      <td>39644.000000</td>\n",
       "      <td>39644.000000</td>\n",
       "      <td>39644.000000</td>\n",
       "      <td>39644.000000</td>\n",
       "      <td>39644.000000</td>\n",
       "    </tr>\n",
       "    <tr>\n",
       "      <th>unique</th>\n",
       "      <td>39644</td>\n",
       "      <td>NaN</td>\n",
       "      <td>NaN</td>\n",
       "      <td>NaN</td>\n",
       "      <td>NaN</td>\n",
       "      <td>NaN</td>\n",
       "      <td>NaN</td>\n",
       "      <td>NaN</td>\n",
       "      <td>NaN</td>\n",
       "      <td>NaN</td>\n",
       "      <td>NaN</td>\n",
       "      <td>NaN</td>\n",
       "      <td>NaN</td>\n",
       "      <td>NaN</td>\n",
       "      <td>NaN</td>\n",
       "      <td>NaN</td>\n",
       "    </tr>\n",
       "    <tr>\n",
       "      <th>top</th>\n",
       "      <td>http://mashable.com/2014/12/01/russia-blocks-v...</td>\n",
       "      <td>NaN</td>\n",
       "      <td>NaN</td>\n",
       "      <td>NaN</td>\n",
       "      <td>NaN</td>\n",
       "      <td>NaN</td>\n",
       "      <td>NaN</td>\n",
       "      <td>NaN</td>\n",
       "      <td>NaN</td>\n",
       "      <td>NaN</td>\n",
       "      <td>NaN</td>\n",
       "      <td>NaN</td>\n",
       "      <td>NaN</td>\n",
       "      <td>NaN</td>\n",
       "      <td>NaN</td>\n",
       "      <td>NaN</td>\n",
       "    </tr>\n",
       "    <tr>\n",
       "      <th>freq</th>\n",
       "      <td>1</td>\n",
       "      <td>NaN</td>\n",
       "      <td>NaN</td>\n",
       "      <td>NaN</td>\n",
       "      <td>NaN</td>\n",
       "      <td>NaN</td>\n",
       "      <td>NaN</td>\n",
       "      <td>NaN</td>\n",
       "      <td>NaN</td>\n",
       "      <td>NaN</td>\n",
       "      <td>NaN</td>\n",
       "      <td>NaN</td>\n",
       "      <td>NaN</td>\n",
       "      <td>NaN</td>\n",
       "      <td>NaN</td>\n",
       "      <td>NaN</td>\n",
       "    </tr>\n",
       "    <tr>\n",
       "      <th>mean</th>\n",
       "      <td>NaN</td>\n",
       "      <td>354.530471</td>\n",
       "      <td>10.398749</td>\n",
       "      <td>546.514731</td>\n",
       "      <td>0.548216</td>\n",
       "      <td>0.996469</td>\n",
       "      <td>0.689175</td>\n",
       "      <td>10.883690</td>\n",
       "      <td>3.293638</td>\n",
       "      <td>4.544143</td>\n",
       "      <td>1.249874</td>\n",
       "      <td>4.548239</td>\n",
       "      <td>7.223767</td>\n",
       "      <td>0.052946</td>\n",
       "      <td>0.178009</td>\n",
       "      <td>0.157855</td>\n",
       "    </tr>\n",
       "    <tr>\n",
       "      <th>std</th>\n",
       "      <td>NaN</td>\n",
       "      <td>214.163767</td>\n",
       "      <td>2.114037</td>\n",
       "      <td>471.107508</td>\n",
       "      <td>3.520708</td>\n",
       "      <td>5.231231</td>\n",
       "      <td>3.264816</td>\n",
       "      <td>11.332017</td>\n",
       "      <td>3.855141</td>\n",
       "      <td>8.309434</td>\n",
       "      <td>4.107855</td>\n",
       "      <td>0.844406</td>\n",
       "      <td>1.909130</td>\n",
       "      <td>0.223929</td>\n",
       "      <td>0.382525</td>\n",
       "      <td>0.364610</td>\n",
       "    </tr>\n",
       "    <tr>\n",
       "      <th>min</th>\n",
       "      <td>NaN</td>\n",
       "      <td>8.000000</td>\n",
       "      <td>2.000000</td>\n",
       "      <td>0.000000</td>\n",
       "      <td>0.000000</td>\n",
       "      <td>0.000000</td>\n",
       "      <td>0.000000</td>\n",
       "      <td>0.000000</td>\n",
       "      <td>0.000000</td>\n",
       "      <td>0.000000</td>\n",
       "      <td>0.000000</td>\n",
       "      <td>0.000000</td>\n",
       "      <td>1.000000</td>\n",
       "      <td>0.000000</td>\n",
       "      <td>0.000000</td>\n",
       "      <td>0.000000</td>\n",
       "    </tr>\n",
       "    <tr>\n",
       "      <th>25%</th>\n",
       "      <td>NaN</td>\n",
       "      <td>164.000000</td>\n",
       "      <td>9.000000</td>\n",
       "      <td>246.000000</td>\n",
       "      <td>0.470870</td>\n",
       "      <td>1.000000</td>\n",
       "      <td>0.625739</td>\n",
       "      <td>4.000000</td>\n",
       "      <td>1.000000</td>\n",
       "      <td>1.000000</td>\n",
       "      <td>0.000000</td>\n",
       "      <td>4.478404</td>\n",
       "      <td>6.000000</td>\n",
       "      <td>0.000000</td>\n",
       "      <td>0.000000</td>\n",
       "      <td>0.000000</td>\n",
       "    </tr>\n",
       "    <tr>\n",
       "      <th>50%</th>\n",
       "      <td>NaN</td>\n",
       "      <td>339.000000</td>\n",
       "      <td>10.000000</td>\n",
       "      <td>409.000000</td>\n",
       "      <td>0.539226</td>\n",
       "      <td>1.000000</td>\n",
       "      <td>0.690476</td>\n",
       "      <td>8.000000</td>\n",
       "      <td>3.000000</td>\n",
       "      <td>1.000000</td>\n",
       "      <td>0.000000</td>\n",
       "      <td>4.664082</td>\n",
       "      <td>7.000000</td>\n",
       "      <td>0.000000</td>\n",
       "      <td>0.000000</td>\n",
       "      <td>0.000000</td>\n",
       "    </tr>\n",
       "    <tr>\n",
       "      <th>75%</th>\n",
       "      <td>NaN</td>\n",
       "      <td>542.000000</td>\n",
       "      <td>12.000000</td>\n",
       "      <td>716.000000</td>\n",
       "      <td>0.608696</td>\n",
       "      <td>1.000000</td>\n",
       "      <td>0.754630</td>\n",
       "      <td>14.000000</td>\n",
       "      <td>4.000000</td>\n",
       "      <td>4.000000</td>\n",
       "      <td>1.000000</td>\n",
       "      <td>4.854839</td>\n",
       "      <td>9.000000</td>\n",
       "      <td>0.000000</td>\n",
       "      <td>0.000000</td>\n",
       "      <td>0.000000</td>\n",
       "    </tr>\n",
       "    <tr>\n",
       "      <th>max</th>\n",
       "      <td>NaN</td>\n",
       "      <td>731.000000</td>\n",
       "      <td>23.000000</td>\n",
       "      <td>8474.000000</td>\n",
       "      <td>701.000000</td>\n",
       "      <td>1042.000000</td>\n",
       "      <td>650.000000</td>\n",
       "      <td>304.000000</td>\n",
       "      <td>116.000000</td>\n",
       "      <td>128.000000</td>\n",
       "      <td>91.000000</td>\n",
       "      <td>8.041534</td>\n",
       "      <td>10.000000</td>\n",
       "      <td>1.000000</td>\n",
       "      <td>1.000000</td>\n",
       "      <td>1.000000</td>\n",
       "    </tr>\n",
       "  </tbody>\n",
       "</table>\n",
       "</div>"
      ],
      "text/plain": [
       "                                                      url     timedelta  \\\n",
       "count                                               39644  39644.000000   \n",
       "unique                                              39644           NaN   \n",
       "top     http://mashable.com/2014/12/01/russia-blocks-v...           NaN   \n",
       "freq                                                    1           NaN   \n",
       "mean                                                  NaN    354.530471   \n",
       "std                                                   NaN    214.163767   \n",
       "min                                                   NaN      8.000000   \n",
       "25%                                                   NaN    164.000000   \n",
       "50%                                                   NaN    339.000000   \n",
       "75%                                                   NaN    542.000000   \n",
       "max                                                   NaN    731.000000   \n",
       "\n",
       "         n_tokens_title   n_tokens_content   n_unique_tokens  \\\n",
       "count      39644.000000       39644.000000      39644.000000   \n",
       "unique              NaN                NaN               NaN   \n",
       "top                 NaN                NaN               NaN   \n",
       "freq                NaN                NaN               NaN   \n",
       "mean          10.398749         546.514731          0.548216   \n",
       "std            2.114037         471.107508          3.520708   \n",
       "min            2.000000           0.000000          0.000000   \n",
       "25%            9.000000         246.000000          0.470870   \n",
       "50%           10.000000         409.000000          0.539226   \n",
       "75%           12.000000         716.000000          0.608696   \n",
       "max           23.000000        8474.000000        701.000000   \n",
       "\n",
       "         n_non_stop_words   n_non_stop_unique_tokens     num_hrefs  \\\n",
       "count        39644.000000               39644.000000  39644.000000   \n",
       "unique                NaN                        NaN           NaN   \n",
       "top                   NaN                        NaN           NaN   \n",
       "freq                  NaN                        NaN           NaN   \n",
       "mean             0.996469                   0.689175     10.883690   \n",
       "std              5.231231                   3.264816     11.332017   \n",
       "min              0.000000                   0.000000      0.000000   \n",
       "25%              1.000000                   0.625739      4.000000   \n",
       "50%              1.000000                   0.690476      8.000000   \n",
       "75%              1.000000                   0.754630     14.000000   \n",
       "max           1042.000000                 650.000000    304.000000   \n",
       "\n",
       "         num_self_hrefs      num_imgs    num_videos   average_token_length  \\\n",
       "count      39644.000000  39644.000000  39644.000000           39644.000000   \n",
       "unique              NaN           NaN           NaN                    NaN   \n",
       "top                 NaN           NaN           NaN                    NaN   \n",
       "freq                NaN           NaN           NaN                    NaN   \n",
       "mean           3.293638      4.544143      1.249874               4.548239   \n",
       "std            3.855141      8.309434      4.107855               0.844406   \n",
       "min            0.000000      0.000000      0.000000               0.000000   \n",
       "25%            1.000000      1.000000      0.000000               4.478404   \n",
       "50%            3.000000      1.000000      0.000000               4.664082   \n",
       "75%            4.000000      4.000000      1.000000               4.854839   \n",
       "max          116.000000    128.000000     91.000000               8.041534   \n",
       "\n",
       "         num_keywords   data_channel_is_lifestyle  \\\n",
       "count    39644.000000                39644.000000   \n",
       "unique            NaN                         NaN   \n",
       "top               NaN                         NaN   \n",
       "freq              NaN                         NaN   \n",
       "mean         7.223767                    0.052946   \n",
       "std          1.909130                    0.223929   \n",
       "min          1.000000                    0.000000   \n",
       "25%          6.000000                    0.000000   \n",
       "50%          7.000000                    0.000000   \n",
       "75%          9.000000                    0.000000   \n",
       "max         10.000000                    1.000000   \n",
       "\n",
       "         data_channel_is_entertainment   data_channel_is_bus  \n",
       "count                     39644.000000          39644.000000  \n",
       "unique                             NaN                   NaN  \n",
       "top                                NaN                   NaN  \n",
       "freq                               NaN                   NaN  \n",
       "mean                          0.178009              0.157855  \n",
       "std                           0.382525              0.364610  \n",
       "min                           0.000000              0.000000  \n",
       "25%                           0.000000              0.000000  \n",
       "50%                           0.000000              0.000000  \n",
       "75%                           0.000000              0.000000  \n",
       "max                           1.000000              1.000000  "
      ]
     },
     "execution_count": 9,
     "metadata": {},
     "output_type": "execute_result"
    }
   ],
   "source": [
    "#요약통계\n",
    "df.iloc[:,:16].describe(include=\"all\")"
   ]
  },
  {
   "cell_type": "markdown",
   "metadata": {},
   "source": [
    "데이터를 대략적으로 살펴보니 이진변수(0,1) 또한 실수형으로 처리되었음을 알 수 있다."
   ]
  },
  {
   "cell_type": "code",
   "execution_count": 10,
   "metadata": {},
   "outputs": [
    {
     "data": {
      "text/plain": [
       "0     593\n",
       "1     711\n",
       "2    1500\n",
       "3    1200\n",
       "4     505\n",
       "Name: shares, dtype: int64"
      ]
     },
     "execution_count": 10,
     "metadata": {},
     "output_type": "execute_result"
    }
   ],
   "source": [
    "#타겟변수 확인\n",
    "#확인하는 과정에서 URL을 제외한 칼럼의 첫자에 공백문자가 있음을 발견했다. 이를 제거하고 진행한다.\n",
    "df.columns=df.columns.str.replace(' ', '')\n",
    "target=df[\"shares\"]\n",
    "target.head()"
   ]
  },
  {
   "cell_type": "code",
   "execution_count": 11,
   "metadata": {},
   "outputs": [
    {
     "data": {
      "text/plain": [
       "<matplotlib.axes._subplots.AxesSubplot at 0xb24cba8>"
      ]
     },
     "execution_count": 11,
     "metadata": {},
     "output_type": "execute_result"
    },
    {
     "data": {
      "image/png": "[encoded data removed]",
      "text/plain": [
       "<Figure size 432x288 with 1 Axes>"
      ]
     },
     "metadata": {
      "needs_background": "light"
     },
     "output_type": "display_data"
    }
   ],
   "source": [
    "sns.distplot(target)"
   ]
  },
  {
   "cell_type": "markdown",
   "metadata": {},
   "source": [
    "분포의 상태가 너무 안 좋은 것 같지만, 일단 진행해보도록 한다."
   ]
  },
  {
   "cell_type": "code",
   "execution_count": 12,
   "metadata": {},
   "outputs": [
    {
     "name": "stdout",
     "output_type": "stream",
     "text": [
      "Skewness: 33.963885\n",
      "Kurtosis: 1832.672657\n"
     ]
    }
   ],
   "source": [
    "#왜도와 첨도를 살펴본다.\n",
    "print(\"Skewness: %f\" % target.skew())\n",
    "print(\"Kurtosis: %f\" % target.kurt())"
   ]
  },
  {
   "cell_type": "markdown",
   "metadata": {},
   "source": [
    "헬인데?"
   ]
  },
  {
   "cell_type": "markdown",
   "metadata": {},
   "source": [
    "## 3. EDA"
   ]
  },
  {
   "cell_type": "markdown",
   "metadata": {},
   "source": [
    "Main Feature와 target으로 구성된 데이터 프레임을 새로 만든다."
   ]
  },
  {
   "cell_type": "code",
   "execution_count": 13,
   "metadata": {},
   "outputs": [],
   "source": [
    "df_eda=df.drop([\"url\",\"timedelta\"], axis=1)"
   ]
  },
  {
   "cell_type": "code",
   "execution_count": 14,
   "metadata": {},
   "outputs": [],
   "source": [
    "df_eda[\"pop\"]=pd.DataFrame(np.where(df_eda[\"shares\"]>=1400,1,0))"
   ]
  },
  {
   "cell_type": "code",
   "execution_count": 15,
   "metadata": {},
   "outputs": [
    {
     "data": {
      "text/plain": [
       "Index(['n_tokens_title', 'n_tokens_content', 'n_unique_tokens',\n",
       "       'n_non_stop_words', 'n_non_stop_unique_tokens', 'num_hrefs',\n",
       "       'num_self_hrefs', 'num_imgs', 'num_videos', 'average_token_length',\n",
       "       'num_keywords', 'data_channel_is_lifestyle',\n",
       "       'data_channel_is_entertainment', 'data_channel_is_bus',\n",
       "       'data_channel_is_socmed', 'data_channel_is_tech',\n",
       "       'data_channel_is_world', 'kw_min_min', 'kw_max_min', 'kw_avg_min',\n",
       "       'kw_min_max', 'kw_max_max', 'kw_avg_max', 'kw_min_avg', 'kw_max_avg',\n",
       "       'kw_avg_avg', 'self_reference_min_shares', 'self_reference_max_shares',\n",
       "       'self_reference_avg_sharess', 'weekday_is_monday', 'weekday_is_tuesday',\n",
       "       'weekday_is_wednesday', 'weekday_is_thursday', 'weekday_is_friday',\n",
       "       'weekday_is_saturday', 'weekday_is_sunday', 'is_weekend', 'LDA_00',\n",
       "       'LDA_01', 'LDA_02', 'LDA_03', 'LDA_04', 'global_subjectivity',\n",
       "       'global_sentiment_polarity', 'global_rate_positive_words',\n",
       "       'global_rate_negative_words', 'rate_positive_words',\n",
       "       'rate_negative_words', 'avg_positive_polarity', 'min_positive_polarity',\n",
       "       'max_positive_polarity', 'avg_negative_polarity',\n",
       "       'min_negative_polarity', 'max_negative_polarity', 'title_subjectivity',\n",
       "       'title_sentiment_polarity', 'abs_title_subjectivity',\n",
       "       'abs_title_sentiment_polarity', 'shares', 'pop'],\n",
       "      dtype='object')"
      ]
     },
     "execution_count": 15,
     "metadata": {},
     "output_type": "execute_result"
    }
   ],
   "source": [
    "df_eda.columns"
   ]
  },
  {
   "cell_type": "code",
   "execution_count": 16,
   "metadata": {},
   "outputs": [
    {
     "data": {
      "text/plain": [
       "array([0, 0, 1, ..., 1, 0, 0])"
      ]
     },
     "execution_count": 16,
     "metadata": {},
     "output_type": "execute_result"
    }
   ],
   "source": [
    "df_eda[\"pop\"].values"
   ]
  },
  {
   "cell_type": "code",
   "execution_count": 17,
   "metadata": {},
   "outputs": [
    {
     "data": {
      "text/plain": [
       "1    21154\n",
       "0    18490\n",
       "Name: pop, dtype: int64"
      ]
     },
     "execution_count": 17,
     "metadata": {},
     "output_type": "execute_result"
    }
   ],
   "source": [
    "df_eda[\"pop\"].value_counts()"
   ]
  },
  {
   "cell_type": "code",
   "execution_count": 18,
   "metadata": {},
   "outputs": [
    {
     "data": {
      "text/plain": [
       "<seaborn.axisgrid.FacetGrid at 0xb324198>"
      ]
     },
     "execution_count": 18,
     "metadata": {},
     "output_type": "execute_result"
    },
    {
     "data": {
      "image/png": "[encoded data removed]",
      "text/plain": [
       "<Figure size 360x360 with 1 Axes>"
      ]
     },
     "metadata": {
      "needs_background": "light"
     },
     "output_type": "display_data"
    }
   ],
   "source": [
    "sns.catplot(x=\"pop\", kind=\"count\", data=df_eda)"
   ]
  },
  {
   "cell_type": "markdown",
   "metadata": {},
   "source": [
    "자료도 정리 된거 같으니 항상 귀찮게 구는 결측치와 이상치를 찾아보자"
   ]
  },
  {
   "cell_type": "code",
   "execution_count": 19,
   "metadata": {},
   "outputs": [],
   "source": [
    "def missing_values_table(df):\n",
    "        # Total missing values\n",
    "        mis_val = df.isnull().sum()\n",
    "        \n",
    "        # Percentage of missing values\n",
    "        mis_val_percent = 100 * df.isnull().sum() / len(df)\n",
    "        \n",
    "        # Make a table with the results\n",
    "        mis_val_table = pd.concat([mis_val, mis_val_percent], axis=1)\n",
    "        \n",
    "        # Rename the columns\n",
    "        mis_val_table_ren_columns = mis_val_table.rename(\n",
    "        columns = {0 : 'Missing Values', 1 : '% of Total Values'})\n",
    "        \n",
    "        # Sort the table by percentage of missing descending\n",
    "        mis_val_table_ren_columns = mis_val_table_ren_columns[\n",
    "            mis_val_table_ren_columns.iloc[:,1] != 0].sort_values(\n",
    "        '% of Total Values', ascending=False).round(1)\n",
    "        \n",
    "        # Print some summary information\n",
    "        print (\"Your selected dataframe has \" + str(df.shape[1]) + \" columns.\\n\"      \n",
    "            \"There are \" + str(mis_val_table_ren_columns.shape[0]) +\n",
    "              \" columns that have missing values.\")\n",
    "        \n",
    "        # Return the dataframe with missing information\n",
    "        return mis_val_table_ren_columns"
   ]
  },
  {
   "cell_type": "code",
   "execution_count": 20,
   "metadata": {},
   "outputs": [
    {
     "name": "stdout",
     "output_type": "stream",
     "text": [
      "Your selected dataframe has 60 columns.\n",
      "There are 0 columns that have missing values.\n"
     ]
    },
    {
     "data": {
      "text/html": [
       "<div>\n",
       "<style scoped>\n",
       "    .dataframe tbody tr th:only-of-type {\n",
       "        vertical-align: middle;\n",
       "    }\n",
       "\n",
       "    .dataframe tbody tr th {\n",
       "        vertical-align: top;\n",
       "    }\n",
       "\n",
       "    .dataframe thead th {\n",
       "        text-align: right;\n",
       "    }\n",
       "</style>\n",
       "<table border=\"1\" class=\"dataframe\">\n",
       "  <thead>\n",
       "    <tr style=\"text-align: right;\">\n",
       "      <th></th>\n",
       "      <th>Missing Values</th>\n",
       "      <th>% of Total Values</th>\n",
       "    </tr>\n",
       "  </thead>\n",
       "  <tbody>\n",
       "  </tbody>\n",
       "</table>\n",
       "</div>"
      ],
      "text/plain": [
       "Empty DataFrame\n",
       "Columns: [Missing Values, % of Total Values]\n",
       "Index: []"
      ]
     },
     "execution_count": 20,
     "metadata": {},
     "output_type": "execute_result"
    }
   ],
   "source": [
    "missing_values = missing_values_table(df_eda)\n",
    "missing_values"
   ]
  },
  {
   "cell_type": "markdown",
   "metadata": {},
   "source": [
    "잭팟! 클-----린한 데이터입니다. 이제는 아웃 라이어를 볼 차례입니다."
   ]
  },
  {
   "cell_type": "code",
   "execution_count": 21,
   "metadata": {},
   "outputs": [
    {
     "data": {
      "text/plain": [
       "<seaborn.axisgrid.PairGrid at 0xb3c4eb8>"
      ]
     },
     "execution_count": 21,
     "metadata": {},
     "output_type": "execute_result"
    },
    {
     "data": {
      "image/png": "[encoded data removed]",
      "text/plain": [
       "<Figure size 1080x1080 with 42 Axes>"
      ]
     },
     "metadata": {
      "needs_background": "light"
     },
     "output_type": "display_data"
    }
   ],
   "source": [
    "#모든 항목에 대해 그리는 것은 59*59의 그래프를 만들기 때문에 간단하게 살펴보고 이상치의 유무를 본다.\n",
    "sns.pairplot(df_eda[['n_tokens_title', 'n_tokens_content', 'n_unique_tokens','n_non_stop_words', 'n_non_stop_unique_tokens','shares']])"
   ]
  },
  {
   "cell_type": "markdown",
   "metadata": {},
   "source": [
    "아웃 라이어가 존재한다는 것을 알게 되었고 Z-score를 통한 이상치 제거를 나중에 진행한다. \n",
    "\n",
    "우선은 상관 관계를 보도록 한다."
   ]
  },
  {
   "cell_type": "code",
   "execution_count": 22,
   "metadata": {},
   "outputs": [],
   "source": [
    "#상관계수\n",
    "correlations = df_eda.corr()['shares'].sort_values()"
   ]
  },
  {
   "cell_type": "code",
   "execution_count": 23,
   "metadata": {},
   "outputs": [
    {
     "name": "stdout",
     "output_type": "stream",
     "text": [
      "Most Positive Correlations:\n",
      " kw_max_min                    0.030114\n",
      "kw_avg_min                    0.030406\n",
      "global_subjectivity           0.031604\n",
      "num_imgs                      0.039388\n",
      "kw_min_avg                    0.039551\n",
      "kw_avg_max                    0.044686\n",
      "num_hrefs                     0.045404\n",
      "self_reference_max_shares     0.047115\n",
      "self_reference_min_shares     0.055958\n",
      "self_reference_avg_sharess    0.057789\n",
      "kw_max_avg                    0.064306\n",
      "LDA_03                        0.083771\n",
      "kw_avg_avg                    0.110413\n",
      "pop                           0.199891\n",
      "shares                        1.000000\n",
      "Name: shares, dtype: float64\n",
      "\n",
      "Most Negative Correlations:\n",
      " LDA_02                          -0.059163\n",
      "data_channel_is_world           -0.049497\n",
      "avg_negative_polarity           -0.032029\n",
      "average_token_length            -0.022007\n",
      "max_negative_polarity           -0.019300\n",
      "min_negative_polarity           -0.019297\n",
      "data_channel_is_entertainment   -0.017006\n",
      "LDA_04                          -0.016622\n",
      "data_channel_is_tech            -0.013253\n",
      "rate_positive_words             -0.013241\n",
      "data_channel_is_bus             -0.012376\n",
      "LDA_01                          -0.010183\n",
      "weekday_is_thursday             -0.008833\n",
      "weekday_is_tuesday              -0.007941\n",
      "rate_negative_words             -0.005183\n",
      "Name: shares, dtype: float64\n"
     ]
    }
   ],
   "source": [
    "print('Most Positive Correlations:\\n', correlations.tail(15))\n",
    "print('\\nMost Negative Correlations:\\n', correlations.head(15))"
   ]
  },
  {
   "cell_type": "code",
   "execution_count": 24,
   "metadata": {},
   "outputs": [
    {
     "data": {
      "image/png": "[encoded data removed]",
      "text/plain": [
       "<Figure size 432x288 with 2 Axes>"
      ]
     },
     "metadata": {
      "needs_background": "light"
     },
     "output_type": "display_data"
    }
   ],
   "source": [
    "#상관관계를 보는 것만큼 괜찮은 EDA가 없다.\n",
    "sns.heatmap(df_eda.corr(),cmap='coolwarm');"
   ]
  },
  {
   "cell_type": "markdown",
   "metadata": {},
   "source": [
    "## 4. 전처리\n",
    "\n",
    "* 이상치 제거\n",
    "\n",
    "* Normalization and standardization\n",
    "\n",
    "* 자료형 맞춰주기\n",
    "\n",
    "* 왜도 조정하기"
   ]
  },
  {
   "cell_type": "code",
   "execution_count": 25,
   "metadata": {},
   "outputs": [
    {
     "data": {
      "text/plain": [
       "(21009, 60)"
      ]
     },
     "execution_count": 25,
     "metadata": {},
     "output_type": "execute_result"
    }
   ],
   "source": [
    "df_eda[(np.abs(stats.zscore(df_eda)) < 3).all(axis=1)].shape"
   ]
  },
  {
   "cell_type": "code",
   "execution_count": 26,
   "metadata": {},
   "outputs": [],
   "source": [
    "#이상치를 제거한다.\n",
    "df_no_out=df_eda[(np.abs(stats.zscore(df_eda)) < 3).all(axis=1)]"
   ]
  },
  {
   "cell_type": "code",
   "execution_count": 27,
   "metadata": {},
   "outputs": [
    {
     "name": "stdout",
     "output_type": "stream",
     "text": [
      "\n",
      " mu = 2426.01 and sigma = 3555.51\n",
      "\n"
     ]
    },
    {
     "data": {
      "image/png": "[encoded data removed]",
      "text/plain": [
       "<Figure size 432x288 with 1 Axes>"
      ]
     },
     "metadata": {
      "needs_background": "light"
     },
     "output_type": "display_data"
    },
    {
     "data": {
      "image/png": "[encoded data removed]",
      "text/plain": [
       "<Figure size 432x288 with 1 Axes>"
      ]
     },
     "metadata": {
      "needs_background": "light"
     },
     "output_type": "display_data"
    }
   ],
   "source": [
    "#정규화 + 스케일링 진행 전 데이터 살펴보기\n",
    "#Check the new distribution \n",
    "sns.distplot(df_no_out[\"shares\"] , fit=norm);\n",
    "\n",
    "(mu, sigma) = norm.fit(df_no_out[\"shares\"])\n",
    "print( '\\n mu = {:.2f} and sigma = {:.2f}\\n'.format(mu, sigma))\n",
    "\n",
    "#Now plot the distribution\n",
    "plt.legend(['Normal dist. ($\\mu=$ {:.2f} and $\\sigma=$ {:.2f} )'.format(mu, sigma)],\n",
    "            loc='best')\n",
    "plt.ylabel('Frequency')\n",
    "plt.title('Shares distribution')\n",
    "\n",
    "#Get also the QQ-plot\n",
    "fig = plt.figure()\n",
    "res = stats.probplot(df_no_out[\"shares\"], plot=plt)\n",
    "plt.show()"
   ]
  },
  {
   "cell_type": "code",
   "execution_count": 28,
   "metadata": {},
   "outputs": [
    {
     "name": "stdout",
     "output_type": "stream",
     "text": [
      "\n",
      " mu = 7.34 and sigma = 0.84\n",
      "\n"
     ]
    },
    {
     "data": {
      "image/png": "[encoded data removed]",
      "text/plain": [
       "<Figure size 432x288 with 1 Axes>"
      ]
     },
     "metadata": {
      "needs_background": "light"
     },
     "output_type": "display_data"
    },
    {
     "data": {
      "image/png": "[encoded data removed]",
      "text/plain": [
       "<Figure size 432x288 with 1 Axes>"
      ]
     },
     "metadata": {
      "needs_background": "light"
     },
     "output_type": "display_data"
    }
   ],
   "source": [
    "#일단 로그를 취하고 살펴본다.\n",
    "df_no_out.loc[:,\"shares\"] = np.log1p(df_no_out.loc[:,\"shares\"])\n",
    "\n",
    "#확률분포를 살펴본다.\n",
    "sns.distplot(df_no_out.loc[:,\"shares\"] , fit=norm);\n",
    "\n",
    "(mu, sigma) = norm.fit(df_no_out[\"shares\"])\n",
    "print( '\\n mu = {:.2f} and sigma = {:.2f}\\n'.format(mu, sigma))\n",
    "\n",
    "\n",
    "plt.legend(['Normal dist. ($\\mu=$ {:.2f} and $\\sigma=$ {:.2f} )'.format(mu, sigma)],\n",
    "            loc='best')\n",
    "plt.ylabel('Frequency')\n",
    "plt.title('Shares distribution')\n",
    "\n",
    "#QQ-plot을 살펴본다.\n",
    "fig = plt.figure()\n",
    "res = stats.probplot(df_no_out.loc[:,\"shares\"], plot=plt)\n",
    "plt.show()"
   ]
  },
  {
   "cell_type": "code",
   "execution_count": 29,
   "metadata": {},
   "outputs": [],
   "source": [
    "#변수명을 줄여주고 다음 단계로 넘어간다.\n",
    "data=df_no_out"
   ]
  },
  {
   "cell_type": "markdown",
   "metadata": {},
   "source": [
    "일부 항목에 대해 자료형을 바꿔줄 필요가 있다. \"is_\"라는 문자열이 들어가는 항목은 사실 이진변수이기 때문에 실수형 보다는 정수형으로 처리하는 것이 안전하다."
   ]
  },
  {
   "cell_type": "code",
   "execution_count": 30,
   "metadata": {},
   "outputs": [
    {
     "data": {
      "text/html": [
       "<div>\n",
       "<style scoped>\n",
       "    .dataframe tbody tr th:only-of-type {\n",
       "        vertical-align: middle;\n",
       "    }\n",
       "\n",
       "    .dataframe tbody tr th {\n",
       "        vertical-align: top;\n",
       "    }\n",
       "\n",
       "    .dataframe thead th {\n",
       "        text-align: right;\n",
       "    }\n",
       "</style>\n",
       "<table border=\"1\" class=\"dataframe\">\n",
       "  <thead>\n",
       "    <tr style=\"text-align: right;\">\n",
       "      <th></th>\n",
       "      <th>data_channel_is_lifestyle</th>\n",
       "      <th>data_channel_is_entertainment</th>\n",
       "      <th>data_channel_is_bus</th>\n",
       "      <th>data_channel_is_socmed</th>\n",
       "      <th>data_channel_is_tech</th>\n",
       "      <th>data_channel_is_world</th>\n",
       "      <th>weekday_is_monday</th>\n",
       "      <th>weekday_is_tuesday</th>\n",
       "      <th>weekday_is_wednesday</th>\n",
       "      <th>weekday_is_thursday</th>\n",
       "      <th>weekday_is_friday</th>\n",
       "      <th>weekday_is_saturday</th>\n",
       "      <th>weekday_is_sunday</th>\n",
       "      <th>is_weekend</th>\n",
       "    </tr>\n",
       "  </thead>\n",
       "  <tbody>\n",
       "    <tr>\n",
       "      <th>3075</th>\n",
       "      <td>0.0</td>\n",
       "      <td>1.0</td>\n",
       "      <td>0.0</td>\n",
       "      <td>0.0</td>\n",
       "      <td>0.0</td>\n",
       "      <td>0.0</td>\n",
       "      <td>0.0</td>\n",
       "      <td>0.0</td>\n",
       "      <td>0.0</td>\n",
       "      <td>0.0</td>\n",
       "      <td>1.0</td>\n",
       "      <td>0.0</td>\n",
       "      <td>0.0</td>\n",
       "      <td>0.0</td>\n",
       "    </tr>\n",
       "    <tr>\n",
       "      <th>3076</th>\n",
       "      <td>0.0</td>\n",
       "      <td>1.0</td>\n",
       "      <td>0.0</td>\n",
       "      <td>0.0</td>\n",
       "      <td>0.0</td>\n",
       "      <td>0.0</td>\n",
       "      <td>0.0</td>\n",
       "      <td>0.0</td>\n",
       "      <td>0.0</td>\n",
       "      <td>0.0</td>\n",
       "      <td>1.0</td>\n",
       "      <td>0.0</td>\n",
       "      <td>0.0</td>\n",
       "      <td>0.0</td>\n",
       "    </tr>\n",
       "    <tr>\n",
       "      <th>3079</th>\n",
       "      <td>0.0</td>\n",
       "      <td>0.0</td>\n",
       "      <td>0.0</td>\n",
       "      <td>0.0</td>\n",
       "      <td>1.0</td>\n",
       "      <td>0.0</td>\n",
       "      <td>0.0</td>\n",
       "      <td>0.0</td>\n",
       "      <td>0.0</td>\n",
       "      <td>0.0</td>\n",
       "      <td>1.0</td>\n",
       "      <td>0.0</td>\n",
       "      <td>0.0</td>\n",
       "      <td>0.0</td>\n",
       "    </tr>\n",
       "    <tr>\n",
       "      <th>3080</th>\n",
       "      <td>0.0</td>\n",
       "      <td>1.0</td>\n",
       "      <td>0.0</td>\n",
       "      <td>0.0</td>\n",
       "      <td>0.0</td>\n",
       "      <td>0.0</td>\n",
       "      <td>0.0</td>\n",
       "      <td>0.0</td>\n",
       "      <td>0.0</td>\n",
       "      <td>0.0</td>\n",
       "      <td>1.0</td>\n",
       "      <td>0.0</td>\n",
       "      <td>0.0</td>\n",
       "      <td>0.0</td>\n",
       "    </tr>\n",
       "    <tr>\n",
       "      <th>3083</th>\n",
       "      <td>0.0</td>\n",
       "      <td>0.0</td>\n",
       "      <td>0.0</td>\n",
       "      <td>0.0</td>\n",
       "      <td>1.0</td>\n",
       "      <td>0.0</td>\n",
       "      <td>0.0</td>\n",
       "      <td>0.0</td>\n",
       "      <td>0.0</td>\n",
       "      <td>0.0</td>\n",
       "      <td>1.0</td>\n",
       "      <td>0.0</td>\n",
       "      <td>0.0</td>\n",
       "      <td>0.0</td>\n",
       "    </tr>\n",
       "  </tbody>\n",
       "</table>\n",
       "</div>"
      ],
      "text/plain": [
       "      data_channel_is_lifestyle  data_channel_is_entertainment  \\\n",
       "3075                        0.0                            1.0   \n",
       "3076                        0.0                            1.0   \n",
       "3079                        0.0                            0.0   \n",
       "3080                        0.0                            1.0   \n",
       "3083                        0.0                            0.0   \n",
       "\n",
       "      data_channel_is_bus  data_channel_is_socmed  data_channel_is_tech  \\\n",
       "3075                  0.0                     0.0                   0.0   \n",
       "3076                  0.0                     0.0                   0.0   \n",
       "3079                  0.0                     0.0                   1.0   \n",
       "3080                  0.0                     0.0                   0.0   \n",
       "3083                  0.0                     0.0                   1.0   \n",
       "\n",
       "      data_channel_is_world  weekday_is_monday  weekday_is_tuesday  \\\n",
       "3075                    0.0                0.0                 0.0   \n",
       "3076                    0.0                0.0                 0.0   \n",
       "3079                    0.0                0.0                 0.0   \n",
       "3080                    0.0                0.0                 0.0   \n",
       "3083                    0.0                0.0                 0.0   \n",
       "\n",
       "      weekday_is_wednesday  weekday_is_thursday  weekday_is_friday  \\\n",
       "3075                   0.0                  0.0                1.0   \n",
       "3076                   0.0                  0.0                1.0   \n",
       "3079                   0.0                  0.0                1.0   \n",
       "3080                   0.0                  0.0                1.0   \n",
       "3083                   0.0                  0.0                1.0   \n",
       "\n",
       "      weekday_is_saturday  weekday_is_sunday  is_weekend  \n",
       "3075                  0.0                0.0         0.0  \n",
       "3076                  0.0                0.0         0.0  \n",
       "3079                  0.0                0.0         0.0  \n",
       "3080                  0.0                0.0         0.0  \n",
       "3083                  0.0                0.0         0.0  "
      ]
     },
     "execution_count": 30,
     "metadata": {},
     "output_type": "execute_result"
    }
   ],
   "source": [
    "data.filter(regex='is_').head()"
   ]
  },
  {
   "cell_type": "code",
   "execution_count": 31,
   "metadata": {
    "scrolled": true
   },
   "outputs": [],
   "source": [
    "data[data.filter(regex='is_').columns]=data[data.filter(regex='is_').columns].astype(\"int64\", copy=True)"
   ]
  },
  {
   "cell_type": "code",
   "execution_count": 32,
   "metadata": {
    "scrolled": true
   },
   "outputs": [
    {
     "name": "stdout",
     "output_type": "stream",
     "text": [
      "<class 'pandas.core.frame.DataFrame'>\n",
      "Int64Index: 21009 entries, 3075 to 39642\n",
      "Data columns (total 14 columns):\n",
      "data_channel_is_lifestyle        21009 non-null int64\n",
      "data_channel_is_entertainment    21009 non-null int64\n",
      "data_channel_is_bus              21009 non-null int64\n",
      "data_channel_is_socmed           21009 non-null int64\n",
      "data_channel_is_tech             21009 non-null int64\n",
      "data_channel_is_world            21009 non-null int64\n",
      "weekday_is_monday                21009 non-null int64\n",
      "weekday_is_tuesday               21009 non-null int64\n",
      "weekday_is_wednesday             21009 non-null int64\n",
      "weekday_is_thursday              21009 non-null int64\n",
      "weekday_is_friday                21009 non-null int64\n",
      "weekday_is_saturday              21009 non-null int64\n",
      "weekday_is_sunday                21009 non-null int64\n",
      "is_weekend                       21009 non-null int64\n",
      "dtypes: int64(14)\n",
      "memory usage: 2.4 MB\n"
     ]
    }
   ],
   "source": [
    "data.filter(regex='is_').info()"
   ]
  },
  {
   "cell_type": "code",
   "execution_count": 34,
   "metadata": {},
   "outputs": [
    {
     "data": {
      "text/html": [
       "<div>\n",
       "<style scoped>\n",
       "    .dataframe tbody tr th:only-of-type {\n",
       "        vertical-align: middle;\n",
       "    }\n",
       "\n",
       "    .dataframe tbody tr th {\n",
       "        vertical-align: top;\n",
       "    }\n",
       "\n",
       "    .dataframe thead th {\n",
       "        text-align: right;\n",
       "    }\n",
       "</style>\n",
       "<table border=\"1\" class=\"dataframe\">\n",
       "  <thead>\n",
       "    <tr style=\"text-align: right;\">\n",
       "      <th></th>\n",
       "      <th>n_tokens_title</th>\n",
       "      <th>n_tokens_content</th>\n",
       "      <th>n_unique_tokens</th>\n",
       "      <th>n_non_stop_words</th>\n",
       "      <th>n_non_stop_unique_tokens</th>\n",
       "      <th>num_hrefs</th>\n",
       "      <th>num_self_hrefs</th>\n",
       "      <th>num_imgs</th>\n",
       "      <th>num_videos</th>\n",
       "      <th>average_token_length</th>\n",
       "      <th>...</th>\n",
       "      <th>max_positive_polarity</th>\n",
       "      <th>avg_negative_polarity</th>\n",
       "      <th>min_negative_polarity</th>\n",
       "      <th>max_negative_polarity</th>\n",
       "      <th>title_subjectivity</th>\n",
       "      <th>title_sentiment_polarity</th>\n",
       "      <th>abs_title_subjectivity</th>\n",
       "      <th>abs_title_sentiment_polarity</th>\n",
       "      <th>shares</th>\n",
       "      <th>pop</th>\n",
       "    </tr>\n",
       "  </thead>\n",
       "  <tbody>\n",
       "    <tr>\n",
       "      <th>count</th>\n",
       "      <td>21009.000000</td>\n",
       "      <td>21009.000000</td>\n",
       "      <td>21009.000000</td>\n",
       "      <td>2.100900e+04</td>\n",
       "      <td>21009.000000</td>\n",
       "      <td>21009.000000</td>\n",
       "      <td>21009.00000</td>\n",
       "      <td>21009.000000</td>\n",
       "      <td>21009.000000</td>\n",
       "      <td>21009.000000</td>\n",
       "      <td>...</td>\n",
       "      <td>21009.000000</td>\n",
       "      <td>21009.000000</td>\n",
       "      <td>21009.000000</td>\n",
       "      <td>21009.000000</td>\n",
       "      <td>21009.000000</td>\n",
       "      <td>21009.000000</td>\n",
       "      <td>21009.000000</td>\n",
       "      <td>21009.000000</td>\n",
       "      <td>21009.000000</td>\n",
       "      <td>21009.000000</td>\n",
       "    </tr>\n",
       "    <tr>\n",
       "      <th>mean</th>\n",
       "      <td>10.461992</td>\n",
       "      <td>517.244276</td>\n",
       "      <td>0.547082</td>\n",
       "      <td>1.000000e+00</td>\n",
       "      <td>0.697540</td>\n",
       "      <td>9.673235</td>\n",
       "      <td>3.02794</td>\n",
       "      <td>3.495026</td>\n",
       "      <td>0.670808</td>\n",
       "      <td>4.698656</td>\n",
       "      <td>...</td>\n",
       "      <td>0.760608</td>\n",
       "      <td>-0.251431</td>\n",
       "      <td>-0.515562</td>\n",
       "      <td>-0.099357</td>\n",
       "      <td>0.256786</td>\n",
       "      <td>0.058025</td>\n",
       "      <td>0.344337</td>\n",
       "      <td>0.126577</td>\n",
       "      <td>7.340923</td>\n",
       "      <td>0.468847</td>\n",
       "    </tr>\n",
       "    <tr>\n",
       "      <th>std</th>\n",
       "      <td>2.063260</td>\n",
       "      <td>336.561186</td>\n",
       "      <td>0.091190</td>\n",
       "      <td>3.328885e-09</td>\n",
       "      <td>0.088944</td>\n",
       "      <td>7.278003</td>\n",
       "      <td>2.44397</td>\n",
       "      <td>5.346156</td>\n",
       "      <td>1.660483</td>\n",
       "      <td>0.273076</td>\n",
       "      <td>...</td>\n",
       "      <td>0.208932</td>\n",
       "      <td>0.105220</td>\n",
       "      <td>0.274614</td>\n",
       "      <td>0.057607</td>\n",
       "      <td>0.308140</td>\n",
       "      <td>0.214319</td>\n",
       "      <td>0.188500</td>\n",
       "      <td>0.182420</td>\n",
       "      <td>0.838445</td>\n",
       "      <td>0.499040</td>\n",
       "    </tr>\n",
       "    <tr>\n",
       "      <th>min</th>\n",
       "      <td>5.000000</td>\n",
       "      <td>34.000000</td>\n",
       "      <td>0.240102</td>\n",
       "      <td>1.000000e+00</td>\n",
       "      <td>0.268631</td>\n",
       "      <td>0.000000</td>\n",
       "      <td>0.00000</td>\n",
       "      <td>0.000000</td>\n",
       "      <td>0.000000</td>\n",
       "      <td>3.624585</td>\n",
       "      <td>...</td>\n",
       "      <td>0.050000</td>\n",
       "      <td>-0.640741</td>\n",
       "      <td>-1.000000</td>\n",
       "      <td>-0.388889</td>\n",
       "      <td>0.000000</td>\n",
       "      <td>-0.714286</td>\n",
       "      <td>0.000000</td>\n",
       "      <td>0.000000</td>\n",
       "      <td>3.135494</td>\n",
       "      <td>0.000000</td>\n",
       "    </tr>\n",
       "    <tr>\n",
       "      <th>25%</th>\n",
       "      <td>9.000000</td>\n",
       "      <td>270.000000</td>\n",
       "      <td>0.483871</td>\n",
       "      <td>1.000000e+00</td>\n",
       "      <td>0.641463</td>\n",
       "      <td>5.000000</td>\n",
       "      <td>1.00000</td>\n",
       "      <td>1.000000</td>\n",
       "      <td>0.000000</td>\n",
       "      <td>4.512456</td>\n",
       "      <td>...</td>\n",
       "      <td>0.600000</td>\n",
       "      <td>-0.313394</td>\n",
       "      <td>-0.700000</td>\n",
       "      <td>-0.125000</td>\n",
       "      <td>0.000000</td>\n",
       "      <td>0.000000</td>\n",
       "      <td>0.166667</td>\n",
       "      <td>0.000000</td>\n",
       "      <td>6.786717</td>\n",
       "      <td>0.000000</td>\n",
       "    </tr>\n",
       "    <tr>\n",
       "      <th>50%</th>\n",
       "      <td>10.000000</td>\n",
       "      <td>420.000000</td>\n",
       "      <td>0.543814</td>\n",
       "      <td>1.000000e+00</td>\n",
       "      <td>0.696774</td>\n",
       "      <td>8.000000</td>\n",
       "      <td>3.00000</td>\n",
       "      <td>1.000000</td>\n",
       "      <td>0.000000</td>\n",
       "      <td>4.693694</td>\n",
       "      <td>...</td>\n",
       "      <td>0.800000</td>\n",
       "      <td>-0.246759</td>\n",
       "      <td>-0.500000</td>\n",
       "      <td>-0.100000</td>\n",
       "      <td>0.100000</td>\n",
       "      <td>0.000000</td>\n",
       "      <td>0.500000</td>\n",
       "      <td>0.000000</td>\n",
       "      <td>7.170888</td>\n",
       "      <td>0.000000</td>\n",
       "    </tr>\n",
       "    <tr>\n",
       "      <th>75%</th>\n",
       "      <td>12.000000</td>\n",
       "      <td>677.000000</td>\n",
       "      <td>0.604348</td>\n",
       "      <td>1.000000e+00</td>\n",
       "      <td>0.754011</td>\n",
       "      <td>12.000000</td>\n",
       "      <td>4.00000</td>\n",
       "      <td>3.000000</td>\n",
       "      <td>1.000000</td>\n",
       "      <td>4.874372</td>\n",
       "      <td>...</td>\n",
       "      <td>1.000000</td>\n",
       "      <td>-0.185317</td>\n",
       "      <td>-0.300000</td>\n",
       "      <td>-0.050000</td>\n",
       "      <td>0.478571</td>\n",
       "      <td>0.136364</td>\n",
       "      <td>0.500000</td>\n",
       "      <td>0.200000</td>\n",
       "      <td>7.741099</td>\n",
       "      <td>1.000000</td>\n",
       "    </tr>\n",
       "    <tr>\n",
       "      <th>max</th>\n",
       "      <td>16.000000</td>\n",
       "      <td>1956.000000</td>\n",
       "      <td>0.972973</td>\n",
       "      <td>1.000000e+00</td>\n",
       "      <td>1.000000</td>\n",
       "      <td>44.000000</td>\n",
       "      <td>14.00000</td>\n",
       "      <td>29.000000</td>\n",
       "      <td>13.000000</td>\n",
       "      <td>6.816754</td>\n",
       "      <td>...</td>\n",
       "      <td>1.000000</td>\n",
       "      <td>0.000000</td>\n",
       "      <td>0.000000</td>\n",
       "      <td>0.000000</td>\n",
       "      <td>1.000000</td>\n",
       "      <td>0.800000</td>\n",
       "      <td>0.500000</td>\n",
       "      <td>0.800000</td>\n",
       "      <td>10.550617</td>\n",
       "      <td>1.000000</td>\n",
       "    </tr>\n",
       "  </tbody>\n",
       "</table>\n",
       "<p>8 rows × 60 columns</p>\n",
       "</div>"
      ],
      "text/plain": [
       "       n_tokens_title  n_tokens_content  n_unique_tokens  n_non_stop_words  \\\n",
       "count    21009.000000      21009.000000     21009.000000      2.100900e+04   \n",
       "mean        10.461992        517.244276         0.547082      1.000000e+00   \n",
       "std          2.063260        336.561186         0.091190      3.328885e-09   \n",
       "min          5.000000         34.000000         0.240102      1.000000e+00   \n",
       "25%          9.000000        270.000000         0.483871      1.000000e+00   \n",
       "50%         10.000000        420.000000         0.543814      1.000000e+00   \n",
       "75%         12.000000        677.000000         0.604348      1.000000e+00   \n",
       "max         16.000000       1956.000000         0.972973      1.000000e+00   \n",
       "\n",
       "       n_non_stop_unique_tokens     num_hrefs  num_self_hrefs      num_imgs  \\\n",
       "count              21009.000000  21009.000000     21009.00000  21009.000000   \n",
       "mean                   0.697540      9.673235         3.02794      3.495026   \n",
       "std                    0.088944      7.278003         2.44397      5.346156   \n",
       "min                    0.268631      0.000000         0.00000      0.000000   \n",
       "25%                    0.641463      5.000000         1.00000      1.000000   \n",
       "50%                    0.696774      8.000000         3.00000      1.000000   \n",
       "75%                    0.754011     12.000000         4.00000      3.000000   \n",
       "max                    1.000000     44.000000        14.00000     29.000000   \n",
       "\n",
       "         num_videos  average_token_length      ...       \\\n",
       "count  21009.000000          21009.000000      ...        \n",
       "mean       0.670808              4.698656      ...        \n",
       "std        1.660483              0.273076      ...        \n",
       "min        0.000000              3.624585      ...        \n",
       "25%        0.000000              4.512456      ...        \n",
       "50%        0.000000              4.693694      ...        \n",
       "75%        1.000000              4.874372      ...        \n",
       "max       13.000000              6.816754      ...        \n",
       "\n",
       "       max_positive_polarity  avg_negative_polarity  min_negative_polarity  \\\n",
       "count           21009.000000           21009.000000           21009.000000   \n",
       "mean                0.760608              -0.251431              -0.515562   \n",
       "std                 0.208932               0.105220               0.274614   \n",
       "min                 0.050000              -0.640741              -1.000000   \n",
       "25%                 0.600000              -0.313394              -0.700000   \n",
       "50%                 0.800000              -0.246759              -0.500000   \n",
       "75%                 1.000000              -0.185317              -0.300000   \n",
       "max                 1.000000               0.000000               0.000000   \n",
       "\n",
       "       max_negative_polarity  title_subjectivity  title_sentiment_polarity  \\\n",
       "count           21009.000000        21009.000000              21009.000000   \n",
       "mean               -0.099357            0.256786                  0.058025   \n",
       "std                 0.057607            0.308140                  0.214319   \n",
       "min                -0.388889            0.000000                 -0.714286   \n",
       "25%                -0.125000            0.000000                  0.000000   \n",
       "50%                -0.100000            0.100000                  0.000000   \n",
       "75%                -0.050000            0.478571                  0.136364   \n",
       "max                 0.000000            1.000000                  0.800000   \n",
       "\n",
       "       abs_title_subjectivity  abs_title_sentiment_polarity        shares  \\\n",
       "count            21009.000000                  21009.000000  21009.000000   \n",
       "mean                 0.344337                      0.126577      7.340923   \n",
       "std                  0.188500                      0.182420      0.838445   \n",
       "min                  0.000000                      0.000000      3.135494   \n",
       "25%                  0.166667                      0.000000      6.786717   \n",
       "50%                  0.500000                      0.000000      7.170888   \n",
       "75%                  0.500000                      0.200000      7.741099   \n",
       "max                  0.500000                      0.800000     10.550617   \n",
       "\n",
       "                pop  \n",
       "count  21009.000000  \n",
       "mean       0.468847  \n",
       "std        0.499040  \n",
       "min        0.000000  \n",
       "25%        0.000000  \n",
       "50%        0.000000  \n",
       "75%        1.000000  \n",
       "max        1.000000  \n",
       "\n",
       "[8 rows x 60 columns]"
      ]
     },
     "execution_count": 34,
     "metadata": {},
     "output_type": "execute_result"
    }
   ],
   "source": [
    "data.describe(include=\"all\")"
   ]
  },
  {
   "cell_type": "markdown",
   "metadata": {},
   "source": [
    "## 5. 모델\n",
    "### 5.1 Linear Regression\n",
    "### 5.2 XGBRegressor\n",
    "### 5.3 MLP\n",
    "### 5.4 Random Forest\n",
    "### 5.5 XGBClassifier\n",
    "### 5.6 MLP"
   ]
  },
  {
   "cell_type": "markdown",
   "metadata": {},
   "source": [
    "모델링을 진행할 때 사람들이 간과하는 것 중 하나가 모델이 가진 특징과 성능을 파악하고 문제에 접근해야한다는 것이다. 닭 잡는데 소 잡는 칼을 들고 와서 일을 크게 벌린다면 자원 낭비로 이어질 수 있다. 이번 회귀분석 및 분류 문제에서도 다양한 모델로 결과를 보는 것도 좋지만, 간단한 모델로 충분한 성능이 나온다면 그걸로도 괜찮을 수 있다는 점을 배웠으면 좋겠다.\n",
    "\n",
    "분석 목적에 따라 shares의 수를 예측하고, 인기기사를 분류해내도록한다.\n",
    "\n",
    "우선은 shares의 수를 예측하는 회귀 모형을 만든다."
   ]
  },
  {
   "cell_type": "markdown",
   "metadata": {},
   "source": [
    "### 5.1 선형 회귀\n",
    "선형 회귀 단계에서 필요한 데이터를 나누는 것으로 모델링을 시작한다."
   ]
  },
  {
   "cell_type": "code",
   "execution_count": 35,
   "metadata": {},
   "outputs": [],
   "source": [
    "#독립변수와 종속변수로 나누어준다.\n",
    "x=data.drop([\"shares\",\"pop\"], axis=1)\n",
    "y=data.shares"
   ]
  },
  {
   "cell_type": "code",
   "execution_count": 36,
   "metadata": {},
   "outputs": [],
   "source": [
    "#훈련 데이터와 테스트 데이터로 나누어준다.\n",
    "train_x, test_x, train_y, test_y=train_test_split(x,y, test_size=0.3, random_state=523)"
   ]
  },
  {
   "cell_type": "code",
   "execution_count": 37,
   "metadata": {},
   "outputs": [
    {
     "name": "stdout",
     "output_type": "stream",
     "text": [
      "Scores = [0.59296796 0.58797931 0.61919516 0.60363117 0.59371681 0.6411836\n",
      " 0.5804316  0.61890932 0.62008214 0.64037789]\n",
      "CV mse: 0.610 +/- 0.020\n"
     ]
    }
   ],
   "source": [
    "#단순회귀 모형 생성\n",
    "lm = LinearRegression()\n",
    "lm_scores = -cross_val_score(lm, train_x, train_y, cv=10, scoring=\"neg_mean_squared_error\")\n",
    "print('Scores =', lm_scores)\n",
    "print('CV mse: %.3f +/- %.3f' % (np.mean(lm_scores), np.std(lm_scores)))"
   ]
  },
  {
   "cell_type": "code",
   "execution_count": 38,
   "metadata": {},
   "outputs": [
    {
     "data": {
      "text/plain": [
       "LinearRegression(copy_X=True, fit_intercept=True, n_jobs=1, normalize=False)"
      ]
     },
     "execution_count": 38,
     "metadata": {},
     "output_type": "execute_result"
    }
   ],
   "source": [
    "lm.fit(train_x, train_y)"
   ]
  },
  {
   "cell_type": "code",
   "execution_count": 39,
   "metadata": {},
   "outputs": [],
   "source": [
    "#검증시간\n",
    "predictions = lm.predict(test_x)"
   ]
  },
  {
   "cell_type": "code",
   "execution_count": 40,
   "metadata": {},
   "outputs": [
    {
     "data": {
      "text/plain": [
       "0.13268632968820526"
      ]
     },
     "execution_count": 40,
     "metadata": {},
     "output_type": "execute_result"
    }
   ],
   "source": [
    "r2_score(y_pred=predictions, y_true=test_y)"
   ]
  },
  {
   "cell_type": "markdown",
   "metadata": {},
   "source": [
    "별론데?"
   ]
  },
  {
   "cell_type": "code",
   "execution_count": 41,
   "metadata": {},
   "outputs": [],
   "source": [
    "cofs=pd.DataFrame({\"Feature\":x.columns,\"Coefficients\":np.transpose(lm.coef_, )})"
   ]
  },
  {
   "cell_type": "code",
   "execution_count": 42,
   "metadata": {},
   "outputs": [
    {
     "data": {
      "text/plain": [
       "3     4.618464e+06\n",
       "11    7.844151e+03\n",
       "14    3.589142e+03\n",
       "45    7.847664e+00\n",
       "44    2.311011e+00\n",
       "Name: Coefficients, dtype: float64"
      ]
     },
     "execution_count": 42,
     "metadata": {},
     "output_type": "execute_result"
    }
   ],
   "source": [
    "cofs.Coefficients.abs().sort_values(ascending=False).head()"
   ]
  },
  {
   "attachments": {
    "image.png": {
     "image/png": "[encoded data removed]"
    }
   },
   "cell_type": "markdown",
   "metadata": {},
   "source": [
    "### 5.2 XGBRegressor\n",
    "XGB는 핫한 기법이고 성능도 좋다고해서 한 번 써봤습니다.\n",
    "\n",
    "추가로 그리드 서치+CV를 활용하여 모델을 구성해봤습니다.\n",
    "\n",
    "그리드 서치와 관련된 내용은 저희 교재 317쪽, 5.2 그리드 서치 챕터에 있습니다.\n",
    "\n",
    "연산 시간이 길기 때문에 이점 주의해주시기 바랍니다.\n",
    "\n",
    "![image.png](attachment:image.png)"
   ]
  },
  {
   "cell_type": "code",
   "execution_count": 59,
   "metadata": {},
   "outputs": [],
   "source": [
    "n_estimators = [150, 200]\n",
    "max_depth = [2, 4, 6]\n",
    "learning_rate = [0.01, 0.1, 1.0]\n",
    "random_state=[523]\n",
    "param_grid = dict(learning_rate=learning_rate, max_depth=max_depth, n_estimators=n_estimators, random_state=random_state)"
   ]
  },
  {
   "cell_type": "code",
   "execution_count": 60,
   "metadata": {},
   "outputs": [],
   "source": [
    "xgb_reg = XGBRegressor()\n",
    "grid_search = GridSearchCV(xgb_reg, param_grid, n_jobs=-1)\n",
    "grid_result = grid_search.fit(train_x, train_y)"
   ]
  },
  {
   "cell_type": "code",
   "execution_count": 61,
   "metadata": {
    "scrolled": true
   },
   "outputs": [
    {
     "name": "stdout",
     "output_type": "stream",
     "text": [
      "0.15719356274251273\n"
     ]
    }
   ],
   "source": [
    "print(r2_score(test_y, grid_result.best_estimator_.predict(test_x)))"
   ]
  },
  {
   "cell_type": "code",
   "execution_count": 62,
   "metadata": {},
   "outputs": [
    {
     "data": {
      "text/html": [
       "<div>\n",
       "<style scoped>\n",
       "    .dataframe tbody tr th:only-of-type {\n",
       "        vertical-align: middle;\n",
       "    }\n",
       "\n",
       "    .dataframe tbody tr th {\n",
       "        vertical-align: top;\n",
       "    }\n",
       "\n",
       "    .dataframe thead th {\n",
       "        text-align: right;\n",
       "    }\n",
       "</style>\n",
       "<table border=\"1\" class=\"dataframe\">\n",
       "  <thead>\n",
       "    <tr style=\"text-align: right;\">\n",
       "      <th></th>\n",
       "      <th>mean_fit_time</th>\n",
       "      <th>std_fit_time</th>\n",
       "      <th>mean_score_time</th>\n",
       "      <th>std_score_time</th>\n",
       "      <th>param_learning_rate</th>\n",
       "      <th>param_max_depth</th>\n",
       "      <th>param_n_estimators</th>\n",
       "      <th>param_random_state</th>\n",
       "      <th>params</th>\n",
       "      <th>split0_test_score</th>\n",
       "      <th>split1_test_score</th>\n",
       "      <th>split2_test_score</th>\n",
       "      <th>mean_test_score</th>\n",
       "      <th>std_test_score</th>\n",
       "      <th>rank_test_score</th>\n",
       "      <th>split0_train_score</th>\n",
       "      <th>split1_train_score</th>\n",
       "      <th>split2_train_score</th>\n",
       "      <th>mean_train_score</th>\n",
       "      <th>std_train_score</th>\n",
       "    </tr>\n",
       "  </thead>\n",
       "  <tbody>\n",
       "    <tr>\n",
       "      <th>7</th>\n",
       "      <td>4.312933</td>\n",
       "      <td>0.051616</td>\n",
       "      <td>0.0290</td>\n",
       "      <td>0.000817</td>\n",
       "      <td>0.1</td>\n",
       "      <td>2</td>\n",
       "      <td>200</td>\n",
       "      <td>523</td>\n",
       "      <td>{'learning_rate': 0.1, 'max_depth': 2, 'n_esti...</td>\n",
       "      <td>0.163064</td>\n",
       "      <td>0.156738</td>\n",
       "      <td>0.160385</td>\n",
       "      <td>0.160062</td>\n",
       "      <td>0.002593</td>\n",
       "      <td>1</td>\n",
       "      <td>0.231017</td>\n",
       "      <td>0.233509</td>\n",
       "      <td>0.224421</td>\n",
       "      <td>0.229649</td>\n",
       "      <td>0.003834</td>\n",
       "    </tr>\n",
       "    <tr>\n",
       "      <th>6</th>\n",
       "      <td>3.509667</td>\n",
       "      <td>0.394291</td>\n",
       "      <td>0.0284</td>\n",
       "      <td>0.003150</td>\n",
       "      <td>0.1</td>\n",
       "      <td>2</td>\n",
       "      <td>150</td>\n",
       "      <td>523</td>\n",
       "      <td>{'learning_rate': 0.1, 'max_depth': 2, 'n_esti...</td>\n",
       "      <td>0.163173</td>\n",
       "      <td>0.154523</td>\n",
       "      <td>0.158755</td>\n",
       "      <td>0.158817</td>\n",
       "      <td>0.003532</td>\n",
       "      <td>2</td>\n",
       "      <td>0.214527</td>\n",
       "      <td>0.216218</td>\n",
       "      <td>0.210397</td>\n",
       "      <td>0.213714</td>\n",
       "      <td>0.002445</td>\n",
       "    </tr>\n",
       "    <tr>\n",
       "      <th>8</th>\n",
       "      <td>7.123200</td>\n",
       "      <td>1.266572</td>\n",
       "      <td>0.0422</td>\n",
       "      <td>0.010897</td>\n",
       "      <td>0.1</td>\n",
       "      <td>4</td>\n",
       "      <td>150</td>\n",
       "      <td>523</td>\n",
       "      <td>{'learning_rate': 0.1, 'max_depth': 4, 'n_esti...</td>\n",
       "      <td>0.157951</td>\n",
       "      <td>0.157010</td>\n",
       "      <td>0.154686</td>\n",
       "      <td>0.156549</td>\n",
       "      <td>0.001372</td>\n",
       "      <td>3</td>\n",
       "      <td>0.383426</td>\n",
       "      <td>0.389435</td>\n",
       "      <td>0.375465</td>\n",
       "      <td>0.382775</td>\n",
       "      <td>0.005722</td>\n",
       "    </tr>\n",
       "  </tbody>\n",
       "</table>\n",
       "</div>"
      ],
      "text/plain": [
       "   mean_fit_time  std_fit_time  mean_score_time  std_score_time  \\\n",
       "7       4.312933      0.051616           0.0290        0.000817   \n",
       "6       3.509667      0.394291           0.0284        0.003150   \n",
       "8       7.123200      1.266572           0.0422        0.010897   \n",
       "\n",
       "  param_learning_rate param_max_depth param_n_estimators param_random_state  \\\n",
       "7                 0.1               2                200                523   \n",
       "6                 0.1               2                150                523   \n",
       "8                 0.1               4                150                523   \n",
       "\n",
       "                                              params  split0_test_score  \\\n",
       "7  {'learning_rate': 0.1, 'max_depth': 2, 'n_esti...           0.163064   \n",
       "6  {'learning_rate': 0.1, 'max_depth': 2, 'n_esti...           0.163173   \n",
       "8  {'learning_rate': 0.1, 'max_depth': 4, 'n_esti...           0.157951   \n",
       "\n",
       "   split1_test_score  split2_test_score  mean_test_score  std_test_score  \\\n",
       "7           0.156738           0.160385         0.160062        0.002593   \n",
       "6           0.154523           0.158755         0.158817        0.003532   \n",
       "8           0.157010           0.154686         0.156549        0.001372   \n",
       "\n",
       "   rank_test_score  split0_train_score  split1_train_score  \\\n",
       "7                1            0.231017            0.233509   \n",
       "6                2            0.214527            0.216218   \n",
       "8                3            0.383426            0.389435   \n",
       "\n",
       "   split2_train_score  mean_train_score  std_train_score  \n",
       "7            0.224421          0.229649         0.003834  \n",
       "6            0.210397          0.213714         0.002445  \n",
       "8            0.375465          0.382775         0.005722  "
      ]
     },
     "execution_count": 62,
     "metadata": {},
     "output_type": "execute_result"
    }
   ],
   "source": [
    "#가장 좋은 조합과 성능을 볼 수 있습니다.\n",
    "result_data=pd.DataFrame(grid_result.cv_results_)\n",
    "result_data.sort_values(\"rank_test_score\").head(3)"
   ]
  },
  {
   "cell_type": "code",
   "execution_count": 63,
   "metadata": {},
   "outputs": [
    {
     "data": {
      "text/plain": [
       "XGBRegressor(base_score=0.5, booster='gbtree', colsample_bylevel=1,\n",
       "       colsample_bytree=1, gamma=0, learning_rate=0.1, max_delta_step=0,\n",
       "       max_depth=2, min_child_weight=1, missing=None, n_estimators=200,\n",
       "       n_jobs=1, nthread=None, objective='reg:linear', random_state=523,\n",
       "       reg_alpha=0, reg_lambda=1, scale_pos_weight=1, seed=None,\n",
       "       silent=True, subsample=1)"
      ]
     },
     "execution_count": 63,
     "metadata": {},
     "output_type": "execute_result"
    }
   ],
   "source": [
    "grid_result.best_estimator_"
   ]
  },
  {
   "cell_type": "markdown",
   "metadata": {},
   "source": [
    "### 5.3 Random Forest\n",
    "랜덤포레스트 분류기를 사용하기 전에 우선은 분류 문제로 만들기 위해 shares>=1400인 경우를 pop=1 나머지 경우를 pop=0으로 하는 pop속성을 추가한 뒤 모델링을 이어간다.\n",
    "\n",
    "랜덤 포레스트의 경우, 몇 개의 변수를 가져갈 것인가? 파라미터는 어떻게 튜닝할 것인가에 대한 방법도 존재한다.\n",
    "\n",
    "알고리즘에 대한 이해를 바탕으로 파라미터 튜닝을 생각하고 있다면 정말 편리한 툴이다."
   ]
  },
  {
   "cell_type": "code",
   "execution_count": 66,
   "metadata": {},
   "outputs": [],
   "source": [
    "clf_x=data.drop([\"pop\",\"shares\"], axis=1)\n",
    "clf_y=data[\"pop\"]"
   ]
  },
  {
   "cell_type": "code",
   "execution_count": 67,
   "metadata": {},
   "outputs": [],
   "source": [
    "train_clf_x, test_clf_x, train_clf_y, test_clf_y=train_test_split(clf_x, clf_y, test_size=0.3, random_state=523)"
   ]
  },
  {
   "cell_type": "code",
   "execution_count": 68,
   "metadata": {},
   "outputs": [
    {
     "data": {
      "text/plain": [
       "array([ True,  True,  True,  True,  True,  True,  True,  True,  True,\n",
       "        True,  True, False,  True,  True,  True,  True,  True,  True,\n",
       "        True,  True,  True,  True,  True,  True,  True,  True,  True,\n",
       "        True,  True,  True,  True,  True,  True,  True,  True,  True,\n",
       "        True,  True,  True,  True,  True,  True,  True,  True,  True,\n",
       "        True,  True,  True,  True,  True,  True,  True,  True,  True,\n",
       "        True,  True,  True,  True])"
      ]
     },
     "execution_count": 68,
     "metadata": {},
     "output_type": "execute_result"
    }
   ],
   "source": [
    "estimator = RandomForestClassifier()\n",
    "selector = RFECV(estimator, step=1, cv=5)\n",
    "selector = selector.fit(train_clf_x, train_clf_y)\n",
    "selector.support_ "
   ]
  },
  {
   "cell_type": "code",
   "execution_count": 69,
   "metadata": {
    "scrolled": false
   },
   "outputs": [
    {
     "name": "stdout",
     "output_type": "stream",
     "text": [
      "Optimal number of features : 57\n"
     ]
    },
    {
     "data": {
      "image/png": "[encoded data removed]",
      "text/plain": [
       "<Figure size 432x288 with 1 Axes>"
      ]
     },
     "metadata": {
      "needs_background": "light"
     },
     "output_type": "display_data"
    }
   ],
   "source": [
    "print(\"Optimal number of features : %d\" % selector.n_features_)\n",
    "\n",
    "# Plot number of features VS. cross-validation scores\n",
    "plt.figure()\n",
    "plt.xlabel(\"Number of features selected\")\n",
    "plt.ylabel(\"Cross validation score (nb of correct classifications)\")\n",
    "plt.plot(range(1, len(selector.grid_scores_) + 1), selector.grid_scores_)\n",
    "plt.show()"
   ]
  },
  {
   "cell_type": "code",
   "execution_count": 77,
   "metadata": {},
   "outputs": [],
   "source": [
    "param_grid = { \n",
    "    'n_estimators': [50, 100, 200],\n",
    "    'max_features': ['auto', 'sqrt', 'log2'],\n",
    "    'max_depth' : [4,6,8],\n",
    "    'criterion' :['gini', 'entropy'],\n",
    "    'random_state' :[523]\n",
    "}"
   ]
  },
  {
   "cell_type": "code",
   "execution_count": 78,
   "metadata": {},
   "outputs": [],
   "source": [
    "CV_rfc = GridSearchCV(estimator=estimator, param_grid=param_grid, cv= 5)\n",
    "grid_rf=CV_rfc.fit(train_clf_x, train_clf_y)"
   ]
  },
  {
   "cell_type": "code",
   "execution_count": 79,
   "metadata": {},
   "outputs": [
    {
     "data": {
      "text/plain": [
       "{'criterion': 'entropy',\n",
       " 'max_depth': 8,\n",
       " 'max_features': 'auto',\n",
       " 'n_estimators': 200,\n",
       " 'random_state': 523}"
      ]
     },
     "execution_count": 79,
     "metadata": {},
     "output_type": "execute_result"
    }
   ],
   "source": [
    "grid_rf.best_params_."
   ]
  },
  {
   "cell_type": "code",
   "execution_count": 80,
   "metadata": {},
   "outputs": [
    {
     "name": "stdout",
     "output_type": "stream",
     "text": [
      "Scores = [0.65873555 0.66077498 0.64977899 0.65963958 0.66428571]\n",
      "CV accuracy: 0.659 +/- 0.005\n"
     ]
    }
   ],
   "source": [
    "#Train and take a look...\n",
    "rf_clf=RandomForestClassifier(n_estimators=200, criterion='entropy', random_state=523, max_depth=8, max_features='auto')\n",
    "rf_scores = cross_val_score(rf_clf, train_clf_x, train_clf_y, cv=5)\n",
    "print('Scores =', rf_scores)\n",
    "print('CV accuracy: %.3f +/- %.3f' % (np.mean(rf_scores), np.std(rf_scores)))"
   ]
  },
  {
   "cell_type": "code",
   "execution_count": 81,
   "metadata": {},
   "outputs": [
    {
     "data": {
      "text/plain": [
       "RandomForestClassifier(bootstrap=True, class_weight=None, criterion='entropy',\n",
       "            max_depth=8, max_features='auto', max_leaf_nodes=None,\n",
       "            min_impurity_decrease=0.0, min_impurity_split=None,\n",
       "            min_samples_leaf=1, min_samples_split=2,\n",
       "            min_weight_fraction_leaf=0.0, n_estimators=200, n_jobs=1,\n",
       "            oob_score=False, random_state=523, verbose=0, warm_start=False)"
      ]
     },
     "execution_count": 81,
     "metadata": {},
     "output_type": "execute_result"
    }
   ],
   "source": [
    "#Fit\n",
    "rf_clf.fit(train_clf_x, train_clf_y)"
   ]
  },
  {
   "cell_type": "code",
   "execution_count": 82,
   "metadata": {},
   "outputs": [],
   "source": [
    "#Predictions...\n",
    "pred_y=rf_clf.predict(test_clf_x)"
   ]
  },
  {
   "cell_type": "code",
   "execution_count": 83,
   "metadata": {},
   "outputs": [
    {
     "name": "stdout",
     "output_type": "stream",
     "text": [
      "             precision    recall  f1-score   support\n",
      "\n",
      "          0       0.67      0.72      0.70      3380\n",
      "          1       0.65      0.60      0.62      2923\n",
      "\n",
      "avg / total       0.66      0.66      0.66      6303\n",
      "\n"
     ]
    }
   ],
   "source": [
    "print(classification_report(y_pred=pred_y,y_true=test_clf_y))"
   ]
  },
  {
   "cell_type": "code",
   "execution_count": 84,
   "metadata": {},
   "outputs": [
    {
     "data": {
      "text/plain": [
       "<matplotlib.axes._subplots.AxesSubplot at 0xeebbf28>"
      ]
     },
     "execution_count": 84,
     "metadata": {},
     "output_type": "execute_result"
    },
    {
     "data": {
      "image/png": "[encoded data removed]",
      "text/plain": [
       "<Figure size 1080x576 with 1 Axes>"
      ]
     },
     "metadata": {
      "needs_background": "light"
     },
     "output_type": "display_data"
    }
   ],
   "source": [
    "feat_importances = pd.Series(rf_clf.feature_importances_, index=train_clf_x.columns)\n",
    "\n",
    "plt.rcParams['figure.figsize'] = [15, 8]\n",
    "feat_importances.nlargest(10).sort_values().plot(kind='barh')"
   ]
  },
  {
   "cell_type": "markdown",
   "metadata": {},
   "source": [
    "### 5.4 XGBClassifier"
   ]
  },
  {
   "cell_type": "code",
   "execution_count": 85,
   "metadata": {},
   "outputs": [],
   "source": [
    "n_estimators = [100, 150, 200]\n",
    "max_depth = [2, 4, 6]\n",
    "learning_rate = [0.01, 0.1, 1.0]\n",
    "random_state=[523]\n",
    "param_grid = dict(learning_rate=learning_rate, max_depth=max_depth, n_estimators=n_estimators, random_state=random_state)"
   ]
  },
  {
   "cell_type": "code",
   "execution_count": 86,
   "metadata": {},
   "outputs": [],
   "source": [
    "xgb_clf = XGBClassifier()\n",
    "folds = StratifiedKFold(n_splits=5, shuffle=True, random_state = 523)\n",
    "grid_search = GridSearchCV(xgb_clf, param_grid, n_jobs=-1, cv=folds)\n",
    "grid_result = grid_search.fit(train_clf_x, train_clf_y)"
   ]
  },
  {
   "cell_type": "code",
   "execution_count": 87,
   "metadata": {},
   "outputs": [
    {
     "name": "stdout",
     "output_type": "stream",
     "text": [
      "             precision    recall  f1-score   support\n",
      "\n",
      "          0       0.68      0.71      0.69      3380\n",
      "          1       0.65      0.61      0.63      2923\n",
      "\n",
      "avg / total       0.66      0.66      0.66      6303\n",
      "\n"
     ]
    },
    {
     "name": "stderr",
     "output_type": "stream",
     "text": [
      "C:\\Users\\student\\Anaconda3\\envs\\tensorflow\\lib\\site-packages\\sklearn\\preprocessing\\label.py:151: DeprecationWarning: The truth value of an empty array is ambiguous. Returning False, but in future this will result in an error. Use `array.size > 0` to check that an array is not empty.\n",
      "  if diff:\n"
     ]
    }
   ],
   "source": [
    "print(classification_report(y_true=test_clf_y, y_pred=grid_result.best_estimator_.predict(test_clf_x)))"
   ]
  },
  {
   "cell_type": "markdown",
   "metadata": {},
   "source": [
    "## 6. 결론\n",
    "많이 부족합니다. 더 열심히 하겠습니다. 감사합니다."
   ]
  }
 ],
 "metadata": {
  "kernelspec": {
   "display_name": "Python 3",
   "language": "python",
   "name": "python3"
  },
  "language_info": {
   "codemirror_mode": {
    "name": "ipython",
    "version": 3
   },
   "file_extension": ".py",
   "mimetype": "text/x-python",
   "name": "python",
   "nbconvert_exporter": "python",
   "pygments_lexer": "ipython3",
   "version": "3.7.0"
  }
 },
 "nbformat": 4,
 "nbformat_minor": 2
}
